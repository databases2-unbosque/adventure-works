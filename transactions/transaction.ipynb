{
 "cells": [
  {
   "cell_type": "code",
   "execution_count": null,
   "metadata": {},
   "outputs": [],
   "source": [
    "import uuid\n",
    "import psycopg2"
   ]
  },
  {
   "cell_type": "markdown",
   "metadata": {},
   "source": [
    "### Connecting to database"
   ]
  },
  {
   "cell_type": "code",
   "execution_count": null,
   "metadata": {},
   "outputs": [],
   "source": [
    "# Connecting to database\n",
    "conn = psycopg2.connect(\n",
    "    host = 'localhost',\n",
    "    database = 'AdventureWorks',\n",
    "    user = 'postgres',\n",
    "    password = 'postgres')"
   ]
  },
  {
   "cell_type": "code",
   "execution_count": null,
   "metadata": {},
   "outputs": [],
   "source": [
    "# Creating a cursor\n",
    "cur = conn.cursor()"
   ]
  },
  {
   "cell_type": "code",
   "execution_count": null,
   "metadata": {},
   "outputs": [],
   "source": [
    "print('PostgreSQL database version:')\n",
    "cur.execute('SELECT version()')\n",
    "print(cur.fetchone())"
   ]
  },
  {
   "cell_type": "markdown",
   "metadata": {},
   "source": [
    "### Marking a simple transaction"
   ]
  },
  {
   "cell_type": "code",
   "execution_count": null,
   "metadata": {},
   "outputs": [],
   "source": [
    "# Executing a first statement\n",
    "cur.execute('SELECT COUNT(*) FROM sales.salesorderheader;')\n",
    "print(cur.fetchone())\n",
    "\n",
    "# Executing a second statement\n",
    "cur.execute('SELECT COUNT(*) FROM sales.salesorderdetail;')\n",
    "print(cur.fetchone())\n",
    "\n",
    "# Commit the transaction\n",
    "conn.commit()"
   ]
  },
  {
   "cell_type": "markdown",
   "metadata": {},
   "source": [
    "### Marking a more complex transaction"
   ]
  },
  {
   "cell_type": "code",
   "execution_count": null,
   "metadata": {},
   "outputs": [],
   "source": [
    "# Adding a new category\n",
    "cur.execute('''\n",
    "    INSERT INTO production.productcategory\n",
    "    (productcategoryid, name, rowguid, modifieddate)\n",
    "    VALUES\n",
    "    (%s, %s, %s, NOW())\n",
    "    RETURNING productcategoryid\n",
    "''', (5, 'Test category', str(uuid.uuid4())))\n",
    "\n",
    "productcategoryid = cur.fetchone()[0]\n",
    "\n",
    "# Adding a new subcategory\n",
    "cur.execute('''\n",
    "    INSERT INTO production.productsubcategory\n",
    "    (productsubcategoryid, productcategoryid, name, rowguid, modifieddate)\n",
    "    VALUES\n",
    "    (%s, %s, %s, %s, NOW())\n",
    "    RETURNING productsubcategoryid\n",
    "''', (38, productcategoryid, 'Test subcategory', str(uuid.uuid4())))\n",
    "\n",
    "productsubcategoryid = cur.fetchone()[0]\n",
    "\n",
    "# Adding a new product\n",
    "cur.execute('''\n",
    "    INSERT INTO production.product\n",
    "    (productid, name, productnumber, makeflag, finishedgoodsflag, safetystocklevel, reorderpoint, standardcost, listprice, daystomanufacture, productsubcategoryid, sellstartdate, rowguid, modifieddate)\n",
    "    VALUES\n",
    "    (%s, %s, %s, %s, %s, %s, %s, %s, %s, %s, %s, NOW(), %s, NOW())\n",
    "''', (5000, 'Test product 1', 'TEST-0001', False, False, 1, 1, 80, 100, 7, productsubcategoryid, str(uuid.uuid4())))\n",
    "\n",
    "conn.commit()"
   ]
  },
  {
   "cell_type": "markdown",
   "metadata": {},
   "source": [
    "### A transaction that will fail"
   ]
  },
  {
   "cell_type": "code",
   "execution_count": null,
   "metadata": {},
   "outputs": [],
   "source": [
    "try:\n",
    "    # Adding a new subcategory\n",
    "    cur.execute('''\n",
    "        INSERT INTO production.productsubcategory\n",
    "        (productsubcategoryid, productcategoryid, name, rowguid, modifieddate)\n",
    "        VALUES\n",
    "        (%s, %s, %s, %s, NOW())\n",
    "        RETURNING productsubcategoryid\n",
    "    ''', (39, productcategoryid, 'Test subcategory 2', str(uuid.uuid4())))\n",
    "\n",
    "    productsubcategoryid = cur.fetchone()[0]\n",
    "\n",
    "    # Adding a new product\n",
    "    cur.execute('''\n",
    "        INSERT INTO production.product\n",
    "        (productid, name, productnumber, makeflag, finishedgoodsflag, safetystocklevel, reorderpoint, standardcost, listprice, daystomanufacture, productsubcategoryid, sellstartdate, rowguid, modifieddate)\n",
    "        VALUES\n",
    "        (%s, %s, %s, %s, %s, %s, %s, %s, %s, %s, %s, NOW(), %s, NOW())\n",
    "    ''', (5000, 'Test product 2', 'TEST-0002', False, False, 1, 1, 80, 100, 7, productsubcategoryid, str(uuid.uuid4())))\n",
    "\n",
    "    conn.commit()\n",
    "except Exception as e:\n",
    "    print ('Oops! An exception has occured:', type(e))\n",
    "    print (e)\n",
    "    \n",
    "    print('Rollbacked transaction')\n",
    "    conn.rollback()"
   ]
  },
  {
   "cell_type": "markdown",
   "metadata": {},
   "source": [
    "### Develop a transaction for creating a new sales order\n",
    "\n",
    "Recuerde que:\n",
    "- Una orden está compuesta por un encabezado (salesorderheader) y uno o varios detalles o items (salesorderdetail).\n",
    "- Para la inserción de un encabezado se debe validar previamente que como mínimo exista el cliente (customer), la dirección de facturación (billtoaddress), la dirección de envío (shiptoaddress) y el método de envío (shipmethod).\n",
    "- Para la inserción de un detalle, además de validar previamente que exista el encabezado, se debe validar que exista el producto (product) y si se está aplicando alguna oferta especial (specialoffer).\n",
    "\n",
    "Adicionalmente, para que la transacción sea exitosa, asegurese de que la suma de los precios de cada detalle ((unitprice - unitpricediscount) * orderqty) coincidan con el subtotal establecido en el encabezado de la orden."
   ]
  },
  {
   "cell_type": "code",
   "execution_count": null,
   "metadata": {},
   "outputs": [],
   "source": []
  },
  {
   "cell_type": "markdown",
   "metadata": {},
   "source": [
    "### Closing connection"
   ]
  },
  {
   "cell_type": "code",
   "execution_count": null,
   "metadata": {},
   "outputs": [],
   "source": [
    "# Closing the cursor and connection\n",
    "cur.close()\n",
    "conn.close()"
   ]
  }
 ],
 "metadata": {
  "kernelspec": {
   "display_name": "Python 3",
   "language": "python",
   "name": "python3"
  },
  "language_info": {
   "codemirror_mode": {
    "name": "ipython",
    "version": 3
   },
   "file_extension": ".py",
   "mimetype": "text/x-python",
   "name": "python",
   "nbconvert_exporter": "python",
   "pygments_lexer": "ipython3",
   "version": "3.7.6"
  }
 },
 "nbformat": 4,
 "nbformat_minor": 4
}
